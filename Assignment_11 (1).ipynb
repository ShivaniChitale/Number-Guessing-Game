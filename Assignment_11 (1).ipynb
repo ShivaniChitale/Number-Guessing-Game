{
  "nbformat": 4,
  "nbformat_minor": 0,
  "metadata": {
    "colab": {
      "provenance": []
    },
    "kernelspec": {
      "name": "python3",
      "display_name": "Python 3"
    },
    "language_info": {
      "name": "python"
    }
  },
  "cells": [
    {
      "cell_type": "markdown",
      "source": [
        "Guessing Game Challenge\n",
        "Let's use while loops to create a guessing game.\n",
        "\n",
        "The Challenge:\n",
        "\n",
        "Write a program that picks a random integer from 1 to 100, and has players guess the number. The rules are:\n",
        "\n",
        "If a player's guess is less than 1 or greater than 100, say \"OUT OF BOUNDS\"\n",
        "On a player's first turn, if their guess is\n",
        "within 10 of the number, return \"WARM!\"\n",
        "further than 10 away from the number, return \"COLD!\"\n",
        "On all subsequent turns, if a guess is\n",
        "closer to the number than the previous guess return \"WARMER!\"\n",
        "farther from the number than the previous guess, return \"COLDER!\"\n",
        "When the player's guess equals the number, tell them they've guessed correctly and how many guesses it took!\n",
        "You can try this from scratch, or follow the steps outlined below. A separate Solution notebook has been provided. Good luck!\n",
        "\n",
        "First, pick a random integer from 1 to 100 using the random module and assign it to a variable\n",
        "Note: random.randint(a,b) returns a random integer in range [a, b], including both end points.\n",
        "\n",
        "[ ]\n",
        "\n",
        "Next, print an introduction to the game and explain the rules\n",
        "[ ]\n",
        "\n",
        "Create a list to store guesses\n",
        "Hint: zero is a good placeholder value. It's useful because it evaluates to \"False\"\n",
        "\n",
        "[ ]\n",
        "\n",
        "Write a while loop that asks for a valid guess. Test it a few times to make sure it works.\n",
        "[ ]\n",
        "while True:\n",
        "\n",
        "    pass\n",
        "Write a while loop that compares the player's guess to our number. If the player guesses correctly, break from the loop. Otherwise, tell the player if they're warmer or colder, and continue asking for guesses.\n",
        "Some hints:\n",
        "\n",
        "it may help to sketch out all possible combinations on paper first!\n",
        "you can use the abs() function to find the positive difference between two numbers\n",
        "if you append all new guesses to the list, then the previous guess is given as guesses[-2]\n",
        "[ ]\n",
        "while True:\n",
        "\n",
        "    # we can copy the code from above to take an input\n",
        "\n",
        "    pass\n",
        "That's it! You've just programmed your first game!\n",
        "\n",
        "In the next section we'll learn how to turn some of these repetitive actions into functions that can be called whenever we need them.\n",
        "\n",
        "Good Job!\n"
      ],
      "metadata": {
        "id": "kao-184apG3H"
      }
    },
    {
      "cell_type": "code",
      "execution_count": null,
      "metadata": {
        "colab": {
          "base_uri": "https://localhost:8080/"
        },
        "id": "igwQ-ifppBIc",
        "outputId": "2809ba80-cc4e-4bde-eae4-6c9b9d11fa16"
      },
      "outputs": [
        {
          "output_type": "stream",
          "name": "stdout",
          "text": [
            "21\n",
            "enter number:31\n",
            "WARM!\n",
            "enter number:80\n",
            "COLDER\n",
            "enter number:70\n",
            "WARMER\n",
            "enter number:50\n",
            "WARMER\n",
            "enter number:90\n",
            "COLDER\n",
            "enter number:10\n",
            "WARMER\n",
            "enter number:20\n",
            "WARMER\n",
            "enter number:21\n",
            "done\n",
            "guessed correctly\n",
            "count: 8\n"
          ]
        }
      ],
      "source": [
        "from random import randint\n",
        "number=randint(1,100)\n",
        "print(number)\n",
        "attempt=1\n",
        "previous_user_input=0\n",
        "total_attempt=attempt\n",
        "\n",
        "try:\n",
        "  user_input=int(input('enter number:'))\n",
        "  if user_input==number:\n",
        "    print('done')\n",
        "\n",
        "  else:\n",
        "    total_attempt=total_attempt+1\n",
        "    if number <1 or 100<number:\n",
        "      print('OUT OF BOUNDS')\n",
        "    elif abs(number - user_input)<=10:\n",
        "      print('WARM!')\n",
        "    else :\n",
        "      print('COLD')\n",
        "\n",
        "  previous_user_input=user_input\n",
        "  while True:\n",
        "    user_input=int(input('enter number:'))\n",
        "    if user_input==number:\n",
        "      print('done')\n",
        "      break\n",
        "    else:\n",
        "      total_attempt=total_attempt+1\n",
        "      if abs(previous_user_input-number)>abs(user_input-number) :\n",
        "         print('WARMER')\n",
        "      else:\n",
        "        print('COLDER')\n",
        "    previous_user_input=user_input\n",
        "except:\n",
        "  print('Invalid input.Plase enter a number')\n",
        "finally:\n",
        "  print('guessed correctly')\n",
        "  print('count:',total_attempt)"
      ]
    }
  ]
}